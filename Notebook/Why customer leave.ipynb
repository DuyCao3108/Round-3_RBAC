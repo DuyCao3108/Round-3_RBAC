{
 "cells": [
  {
   "cell_type": "code",
   "execution_count": 2,
   "metadata": {},
   "outputs": [],
   "source": [
    "import pandas as pd\n",
    "import openpyxl\n",
    "import matplotlib.pyplot as plt\n",
    "import seaborn as sns\n",
    "import numpy as np\n",
    "import tensorflow as tf\n",
    "import math\n",
    "import os\n",
    "from dateutil.relativedelta import relativedelta\n",
    "from sklearn.cluster import KMeans\n",
    "import xgboost\n",
    "from xgboost import XGBClassifier\n",
    "from xgboost import plot_tree\n",
    "# Logistic Regresison \n",
    "import statsmodels\n",
    "from  statsmodels.discrete.discrete_model import Logit\n",
    "import sklearn\n",
    "from sklearn.linear_model import LogisticRegression"
   ]
  },
  {
   "cell_type": "code",
   "execution_count": 14,
   "metadata": {},
   "outputs": [],
   "source": [
    "RFM_VALUE = pd.read_csv(r'C:\\Users\\Admin\\RBAC\\RFM_Value_Extracted.csv', index_col=0)\n",
    "product_sale = pd.read_csv(r'C:\\Users\\Admin\\RBAC\\Round3_RBAC\\ProductSales.csv')\n",
    "voucher_map = pd.read_csv(r'C:\\Users\\Admin\\RBAC\\Round3_RBAC\\VoucherMapping.csv')\n",
    "product_map = pd.read_csv(r'C:\\Users\\Admin\\RBAC\\Round3_RBAC\\ProductMapping.csv')\n",
    "RFM = pd.read_excel(r'C:\\Users\\Admin\\RBAC\\r3_segmentation1.xlsx', index_col=0)\n"
   ]
  },
  {
   "cell_type": "code",
   "execution_count": 18,
   "metadata": {},
   "outputs": [],
   "source": [
    "temp = product_sale.merge(RFM, on = 'CustomerID', how='left')\n",
    "test_cust = temp[temp['CustomerID'] == 9286]"
   ]
  },
  {
   "cell_type": "code",
   "execution_count": 13,
   "metadata": {},
   "outputs": [
    {
     "data": {
      "text/plain": [
       "30994"
      ]
     },
     "execution_count": 13,
     "metadata": {},
     "output_type": "execute_result"
    }
   ],
   "source": [
    "len(product_sale['CustomerID'].unique())"
   ]
  },
  {
   "cell_type": "code",
   "execution_count": null,
   "metadata": {},
   "outputs": [],
   "source": [
    "# RFM_VALUE.to_excel(r'C:\\Users\\Admin\\RBAC\\RFM_Value_Extracted_xlsx.xlsx')"
   ]
  }
 ],
 "metadata": {
  "kernelspec": {
   "display_name": "Python 3",
   "language": "python",
   "name": "python3"
  },
  "language_info": {
   "codemirror_mode": {
    "name": "ipython",
    "version": 3
   },
   "file_extension": ".py",
   "mimetype": "text/x-python",
   "name": "python",
   "nbconvert_exporter": "python",
   "pygments_lexer": "ipython3",
   "version": "3.11.4"
  }
 },
 "nbformat": 4,
 "nbformat_minor": 2
}
