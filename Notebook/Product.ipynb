{
 "cells": [
  {
   "cell_type": "code",
   "execution_count": 63,
   "metadata": {},
   "outputs": [],
   "source": [
    "import pandas as pd\n",
    "import numpy as np\n",
    "import matplotlib.pyplot as plt\n",
    "import seaborn as sns\n",
    "import os"
   ]
  },
  {
   "cell_type": "code",
   "execution_count": 64,
   "metadata": {},
   "outputs": [],
   "source": [
    "product_sales = pd.read_csv(r'C:\\Users\\Admin\\RBAC\\Round3_RBAC\\ProductSales.csv')"
   ]
  },
  {
   "cell_type": "code",
   "execution_count": 65,
   "metadata": {},
   "outputs": [],
   "source": [
    "product_map = pd.read_csv(r'C:\\Users\\Admin\\RBAC\\Round3_RBAC\\ProductMapping.csv')\n",
    "voucher_map = pd.read_csv(r'C:\\Users\\Admin\\RBAC\\Round3_RBAC\\VoucherMapping.csv')"
   ]
  },
  {
   "cell_type": "markdown",
   "metadata": {},
   "source": [
    "# 1 | Change product mapping"
   ]
  },
  {
   "cell_type": "code",
   "execution_count": 66,
   "metadata": {},
   "outputs": [],
   "source": [
    "def split_prefix(x):\n",
    "    return x.split('_')[-1]\n",
    "product_map['NAME_NOPREFIX']  = product_map['NAME'].apply(split_prefix)\n",
    "NAME_NONE_PREFIX = product_map[['FoodCode','NAME_NOPREFIX']]\n",
    "# NAME_NONE_PREFIX.to_excel(r'Product_NonPrefix.xlsx')"
   ]
  },
  {
   "cell_type": "markdown",
   "metadata": {},
   "source": [
    "# 2 | Bought together products"
   ]
  },
  {
   "cell_type": "code",
   "execution_count": 67,
   "metadata": {},
   "outputs": [],
   "source": [
    "# food code to exclude\n",
    "name_non_prefix = ['ADD ON', 'KEYNOTE', 'PROMOTION', 'REDEEM VOUCHER', 'UP SIZE', 'COMBO']\n",
    "food_code_to_get = product_map[product_map['NAME_NOPREFIX'].isin(name_non_prefix) == 0]['FoodCode']\n",
    "product_sales_new = product_sales[product_sales['FoodCode'].isin(food_code_to_get)]"
   ]
  },
  {
   "cell_type": "code",
   "execution_count": 68,
   "metadata": {},
   "outputs": [
    {
     "data": {
      "text/plain": [
       "array(['7UPBOTTLE', '7UPCAN', '7UPGLASS', 'ADD ON', 'AQUAFINA',\n",
       "       'BACON BREAD', 'BACONBLACKPEPPER', 'BACONCARBONARA', 'BACONONION',\n",
       "       'BAKEDCHEESYCORNWITHBACON', 'BAKEDPOTATO', 'BBQCHICKENWINGS',\n",
       "       'BEEF', 'BEEFRICE', 'BEEFTERIYAKI', 'BOLOGNESE', 'CALAMARI',\n",
       "       'CHEESELOVERS', 'CHEESYPOPS', 'CHEESYRINGS', 'CHICKENDELUXE',\n",
       "       'CHICKENSALADWITHPESTOSAUCE', 'CHICKENWITHCHEESESTYLE',\n",
       "       'CHICKENWITHFOURCHEESE', 'COKE LIGHT CAN', 'COMBO',\n",
       "       'COOKIE YOGURT', 'CREAMYCHICKENSOUP', 'CREAMYSHRIMPANDSAUSAGE',\n",
       "       'CRINKLECUTFRENCHFRIES', 'CRISPYSALMONSKINSALAD', 'DELUXEPLATTER',\n",
       "       'ENGLISH HOT TEA', 'FIESTASEAFOOD', 'FISHERMANTUNA',\n",
       "       'FOURCHEESECHICKENWING', 'FRESH MINT LEMON',\n",
       "       'FRIEDCHICKENWITHKOREANSPICYSAUCE',\n",
       "       'FRIEDCHICKENWITHSALTEDEGGSAUCE', 'GARLICBREAD', 'GRABSTICK',\n",
       "       'HAWAIIAN', 'HEINEKKENCAN', 'HONEYMUSTARDFRIES', 'ICECREAM',\n",
       "       'ITALIANSAUAGES', 'KEYNOTE', 'LEMONSODA', 'LIPTONBOTTLE',\n",
       "       'LIPTONGLASS', 'MARINARASEAFOOD', 'MEATLOVERS', 'MINUS ON',\n",
       "       'MIRINDABOTTLE', 'MIRINDAGLASS', 'MIRINDAORANGECAN',\n",
       "       'MIRINDASODACAN', 'MIRINDASODAGLASS', 'NACHOS', 'OCEANDELIGHT',\n",
       "       'PANCAKE', 'PATE LX', 'PATELX', 'PEPPERONI', 'PEPSIBLACKGLASS',\n",
       "       'PEPSIBOTTLE', 'PEPSICAN', 'PEPSIGLASSS', 'PEPSILEMONCAN',\n",
       "       'PEPSIZEROCAN', 'PINE MANGO CRUSH', 'PRHONEYCHEESE', 'PROMOTION',\n",
       "       'PUMPKINSOUP', 'RATATOUILLE', 'REDEEM VOUCHER', 'RICESALMON',\n",
       "       'SALMON', 'SAUSAGE', 'SEAFOOD BASKET', 'SEAFOODBLACKPEPPER',\n",
       "       'SEAFOODCHEESYBITES', 'SEAFOODCHOWDER', 'SFBLACKPEPPER',\n",
       "       'SFBPEPPER', 'SFDELUXE', 'SFPESTO', 'SHRIMPSCAMPI',\n",
       "       'SMOKED SALMON BRUSCHETTA', 'SPICYBEEF', 'SPICYPRAWN', 'SUPREME',\n",
       "       'TRADAOHATHI', 'TRASUATRADEN', 'TRAVAI', 'TUNA', 'TUNA&CRAB',\n",
       "       'TUNABACONSALAD', 'UP SIZE', 'VEGGARLIC', 'VEGTOMATO'],\n",
       "      dtype=object)"
      ]
     },
     "execution_count": 68,
     "metadata": {},
     "output_type": "execute_result"
    }
   ],
   "source": [
    "NAME_NONE_PREFIX['NAME_NOPREFIX'].sort_values().unique()"
   ]
  },
  {
   "cell_type": "code",
   "execution_count": 69,
   "metadata": {},
   "outputs": [],
   "source": [
    "# beverage code to exclude\n",
    "beverage_prefix = ['7UPBOTTLE', '7UPCAN', '7UPGLASS', \n",
    "                   'AQUAFINA', 'COKE LIGHT CAN', 'ENGLISH HOT TEA', \n",
    "                   'LEMONSODA', 'LIPTONBOTTLE', 'LIPTONGLASS', \n",
    "                   'MIRINDABOTTLE', 'MIRINDAGLASS', 'MIRINDAORANGECAN', 'MIRINDASODACAN', 'MIRINDASODAGLASS', \n",
    "                   'PINE MANGO CRUSH', 'PEPSIBOTTLE', 'PEPSICAN', 'PEPSIGLASSS', 'PEPSILEMONCAN','HEINEKKENCAN',\n",
    "                   'FRESH MINT LEMON','PEPSIBLACKGLASS','PEPSIZEROCAN','TRAVAI','TRASUATRADEN','TRADAOHATHI']\n",
    "food_code_to_get = product_map[product_map['NAME_NOPREFIX'].isin(beverage_prefix) == 0]['FoodCode']\n",
    "product_sales_new = product_sales_new[product_sales_new['FoodCode'].isin(food_code_to_get)]"
   ]
  },
  {
   "cell_type": "code",
   "execution_count": 94,
   "metadata": {},
   "outputs": [],
   "source": [
    "merged = product_sales_new.merge(NAME_NONE_PREFIX, on = 'FoodCode')"
   ]
  },
  {
   "cell_type": "code",
   "execution_count": 95,
   "metadata": {},
   "outputs": [],
   "source": [
    "list_of_item_list = []\n",
    "for order_id, remaining_df in merged.groupby('BillID'):\n",
    "    list_of_item_list.append(list(remaining_df.drop_duplicates(subset='NAME_NOPREFIX')['NAME_NOPREFIX'].values))\n",
    "list_of_item_list = [list_of_item for list_of_item in list_of_item_list if len(list_of_item) > 1]"
   ]
  },
  {
   "cell_type": "code",
   "execution_count": 116,
   "metadata": {},
   "outputs": [
    {
     "data": {
      "text/html": [
       "<div>\n",
       "<style scoped>\n",
       "    .dataframe tbody tr th:only-of-type {\n",
       "        vertical-align: middle;\n",
       "    }\n",
       "\n",
       "    .dataframe tbody tr th {\n",
       "        vertical-align: top;\n",
       "    }\n",
       "\n",
       "    .dataframe thead th {\n",
       "        text-align: right;\n",
       "    }\n",
       "</style>\n",
       "<table border=\"1\" class=\"dataframe\">\n",
       "  <thead>\n",
       "    <tr style=\"text-align: right;\">\n",
       "      <th></th>\n",
       "      <th>NAME_NOPREFIX</th>\n",
       "      <th>NAME_2</th>\n",
       "      <th>Concurrence</th>\n",
       "    </tr>\n",
       "  </thead>\n",
       "  <tbody>\n",
       "    <tr>\n",
       "      <th>140</th>\n",
       "      <td>CHEESELOVERS</td>\n",
       "      <td>SFPESTO</td>\n",
       "      <td>6636</td>\n",
       "    </tr>\n",
       "    <tr>\n",
       "      <th>13</th>\n",
       "      <td>SFPESTO</td>\n",
       "      <td>CHEESELOVERS</td>\n",
       "      <td>6324</td>\n",
       "    </tr>\n",
       "    <tr>\n",
       "      <th>2</th>\n",
       "      <td>CRINKLECUTFRENCHFRIES</td>\n",
       "      <td>SFPESTO</td>\n",
       "      <td>5352</td>\n",
       "    </tr>\n",
       "    <tr>\n",
       "      <th>1741</th>\n",
       "      <td>SFPESTO</td>\n",
       "      <td>SPICYBEEF</td>\n",
       "      <td>4379</td>\n",
       "    </tr>\n",
       "    <tr>\n",
       "      <th>152</th>\n",
       "      <td>CHEESELOVERS</td>\n",
       "      <td>MEATLOVERS</td>\n",
       "      <td>4046</td>\n",
       "    </tr>\n",
       "    <tr>\n",
       "      <th>25</th>\n",
       "      <td>SFPESTO</td>\n",
       "      <td>OCEANDELIGHT</td>\n",
       "      <td>3959</td>\n",
       "    </tr>\n",
       "    <tr>\n",
       "      <th>128</th>\n",
       "      <td>SFPESTO</td>\n",
       "      <td>PEPPERONI</td>\n",
       "      <td>3696</td>\n",
       "    </tr>\n",
       "    <tr>\n",
       "      <th>10</th>\n",
       "      <td>PEPPERONI</td>\n",
       "      <td>SFPESTO</td>\n",
       "      <td>3522</td>\n",
       "    </tr>\n",
       "    <tr>\n",
       "      <th>51</th>\n",
       "      <td>SFPESTO</td>\n",
       "      <td>HAWAIIAN</td>\n",
       "      <td>3321</td>\n",
       "    </tr>\n",
       "    <tr>\n",
       "      <th>81</th>\n",
       "      <td>CRINKLECUTFRENCHFRIES</td>\n",
       "      <td>CHEESELOVERS</td>\n",
       "      <td>3277</td>\n",
       "    </tr>\n",
       "  </tbody>\n",
       "</table>\n",
       "</div>"
      ],
      "text/plain": [
       "              NAME_NOPREFIX        NAME_2  Concurrence\n",
       "140            CHEESELOVERS       SFPESTO         6636\n",
       "13                  SFPESTO  CHEESELOVERS         6324\n",
       "2     CRINKLECUTFRENCHFRIES       SFPESTO         5352\n",
       "1741                SFPESTO     SPICYBEEF         4379\n",
       "152            CHEESELOVERS    MEATLOVERS         4046\n",
       "25                  SFPESTO  OCEANDELIGHT         3959\n",
       "128                 SFPESTO     PEPPERONI         3696\n",
       "10                PEPPERONI       SFPESTO         3522\n",
       "51                  SFPESTO      HAWAIIAN         3321\n",
       "81    CRINKLECUTFRENCHFRIES  CHEESELOVERS         3277"
      ]
     },
     "execution_count": 116,
     "metadata": {},
     "output_type": "execute_result"
    }
   ],
   "source": [
    "from itertools import combinations\n",
    "\n",
    "com_dict = {}\n",
    "for list_of_item in list_of_item_list:\n",
    "    for com in combinations(list_of_item,2):\n",
    "        if com in com_dict: com_dict[com] +=1\n",
    "        else: com_dict[com] = 1\n",
    "\n",
    "res_df = pd.DataFrame(pd.Series(com_dict)).reset_index().rename(columns={'level_0':'NAME_NOPREFIX', \"level_1\": \"NAME_2\", 0: \"Concurrence\"}).sort_values('Concurrence',ascending=False)\n",
    "top10 = res_df[:10]\n",
    "top10"
   ]
  },
  {
   "cell_type": "code",
   "execution_count": 124,
   "metadata": {},
   "outputs": [
    {
     "data": {
      "text/html": [
       "<div>\n",
       "<style scoped>\n",
       "    .dataframe tbody tr th:only-of-type {\n",
       "        vertical-align: middle;\n",
       "    }\n",
       "\n",
       "    .dataframe tbody tr th {\n",
       "        vertical-align: top;\n",
       "    }\n",
       "\n",
       "    .dataframe thead th {\n",
       "        text-align: right;\n",
       "    }\n",
       "</style>\n",
       "<table border=\"1\" class=\"dataframe\">\n",
       "  <thead>\n",
       "    <tr style=\"text-align: right;\">\n",
       "      <th></th>\n",
       "      <th>FoodCode</th>\n",
       "      <th>NAME_NOPREFIX</th>\n",
       "      <th>NAME_2</th>\n",
       "      <th>Concurrence</th>\n",
       "    </tr>\n",
       "  </thead>\n",
       "  <tbody>\n",
       "    <tr>\n",
       "      <th>0</th>\n",
       "      <td>2294</td>\n",
       "      <td>VEGGARLIC</td>\n",
       "      <td>SFPESTO</td>\n",
       "      <td>385</td>\n",
       "    </tr>\n",
       "    <tr>\n",
       "      <th>5350</th>\n",
       "      <td>472</td>\n",
       "      <td>FRIEDCHICKENWITHKOREANSPICYSAUCE</td>\n",
       "      <td>SPICYBEEF</td>\n",
       "      <td>60</td>\n",
       "    </tr>\n",
       "    <tr>\n",
       "      <th>5548</th>\n",
       "      <td>1041</td>\n",
       "      <td>CHEESELOVERS</td>\n",
       "      <td>SFPESTO</td>\n",
       "      <td>6636</td>\n",
       "    </tr>\n",
       "    <tr>\n",
       "      <th>16040</th>\n",
       "      <td>1541</td>\n",
       "      <td>PEPPERONI</td>\n",
       "      <td>SFPESTO</td>\n",
       "      <td>3522</td>\n",
       "    </tr>\n",
       "    <tr>\n",
       "      <th>24566</th>\n",
       "      <td>886</td>\n",
       "      <td>HAWAIIAN</td>\n",
       "      <td>SFPESTO</td>\n",
       "      <td>2510</td>\n",
       "    </tr>\n",
       "    <tr>\n",
       "      <th>...</th>\n",
       "      <td>...</td>\n",
       "      <td>...</td>\n",
       "      <td>...</td>\n",
       "      <td>...</td>\n",
       "    </tr>\n",
       "    <tr>\n",
       "      <th>145816</th>\n",
       "      <td>785</td>\n",
       "      <td>FRIEDCHICKENWITHSALTEDEGGSAUCE</td>\n",
       "      <td>SFPESTO</td>\n",
       "      <td>62</td>\n",
       "    </tr>\n",
       "    <tr>\n",
       "      <th>146008</th>\n",
       "      <td>2809</td>\n",
       "      <td>BEEFRICE</td>\n",
       "      <td>SPICYPRAWN</td>\n",
       "      <td>3</td>\n",
       "    </tr>\n",
       "    <tr>\n",
       "      <th>146026</th>\n",
       "      <td>2344</td>\n",
       "      <td>PUMPKINSOUP</td>\n",
       "      <td>FISHERMANTUNA</td>\n",
       "      <td>2</td>\n",
       "    </tr>\n",
       "    <tr>\n",
       "      <th>146044</th>\n",
       "      <td>2198</td>\n",
       "      <td>CREAMYSHRIMPANDSAUSAGE</td>\n",
       "      <td>CHEESELOVERS</td>\n",
       "      <td>14</td>\n",
       "    </tr>\n",
       "    <tr>\n",
       "      <th>146076</th>\n",
       "      <td>370</td>\n",
       "      <td>BEEFTERIYAKI</td>\n",
       "      <td>BACONONION</td>\n",
       "      <td>1</td>\n",
       "    </tr>\n",
       "  </tbody>\n",
       "</table>\n",
       "<p>65 rows × 4 columns</p>\n",
       "</div>"
      ],
      "text/plain": [
       "        FoodCode                     NAME_NOPREFIX         NAME_2  Concurrence\n",
       "0           2294                         VEGGARLIC        SFPESTO          385\n",
       "5350         472  FRIEDCHICKENWITHKOREANSPICYSAUCE      SPICYBEEF           60\n",
       "5548        1041                      CHEESELOVERS        SFPESTO         6636\n",
       "16040       1541                         PEPPERONI        SFPESTO         3522\n",
       "24566        886                          HAWAIIAN        SFPESTO         2510\n",
       "...          ...                               ...            ...          ...\n",
       "145816       785    FRIEDCHICKENWITHSALTEDEGGSAUCE        SFPESTO           62\n",
       "146008      2809                          BEEFRICE     SPICYPRAWN            3\n",
       "146026      2344                       PUMPKINSOUP  FISHERMANTUNA            2\n",
       "146044      2198            CREAMYSHRIMPANDSAUSAGE   CHEESELOVERS           14\n",
       "146076       370                      BEEFTERIYAKI     BACONONION            1\n",
       "\n",
       "[65 rows x 4 columns]"
      ]
     },
     "execution_count": 124,
     "metadata": {},
     "output_type": "execute_result"
    }
   ],
   "source": [
    "temp = product_map.merge(res_df, on ='NAME_NOPREFIX')\n",
    "temp['max_concur'] =  temp.groupby('NAME_NOPREFIX',as_index=False)['Concurrence'].transform('max')\n",
    "temp[temp['Concurrence'] == temp['max_concur']].drop_duplicates(subset=['NAME_NOPREFIX'])[['FoodCode','NAME_NOPREFIX','NAME_2','Concurrence']]"
   ]
  }
 ],
 "metadata": {
  "kernelspec": {
   "display_name": "Python 3",
   "language": "python",
   "name": "python3"
  },
  "language_info": {
   "codemirror_mode": {
    "name": "ipython",
    "version": 3
   },
   "file_extension": ".py",
   "mimetype": "text/x-python",
   "name": "python",
   "nbconvert_exporter": "python",
   "pygments_lexer": "ipython3",
   "version": "3.11.4"
  }
 },
 "nbformat": 4,
 "nbformat_minor": 2
}
