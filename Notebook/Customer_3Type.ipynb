{
 "cells": [
  {
   "cell_type": "code",
   "execution_count": null,
   "metadata": {},
   "outputs": [],
   "source": [
    "import pandas as pd\n",
    "import openpyxl\n",
    "import matplotlib.pyplot as plt\n",
    "import seaborn as sns\n",
    "import numpy as np\n",
    "import tensorflow as tf\n",
    "import math\n",
    "import os\n",
    "from dateutil.relativedelta import relativedelta\n",
    "from sklearn.cluster import KMeans\n",
    "import xgboost\n",
    "from xgboost import XGBClassifier\n",
    "from xgboost import plot_tree\n",
    "# Logistic Regresison \n",
    "import statsmodels\n",
    "from  statsmodels.discrete.discrete_model import Logit\n",
    "import sklearn\n",
    "from sklearn.linear_model import LogisticRegression"
   ]
  },
  {
   "cell_type": "code",
   "execution_count": null,
   "metadata": {},
   "outputs": [],
   "source": [
    "product_sale = pd.read_csv(r'C:\\Users\\Admin\\RBAC\\Round3_RBAC\\ProductSales.csv')\n",
    "voucher_map = pd.read_csv(r'C:\\Users\\Admin\\RBAC\\Round3_RBAC\\VoucherMapping.csv')\n",
    "product_map = pd.read_csv(r'C:\\Users\\Admin\\RBAC\\Round3_RBAC\\ProductMapping.csv')"
   ]
  },
  {
   "cell_type": "code",
   "execution_count": null,
   "metadata": {},
   "outputs": [],
   "source": [
    "# Assuming your DataFrame is named product_sale\n",
    "product_sale['TransactionDate'] = pd.to_datetime(product_sale['TransactionDate'])  # Convert TransactionDate to datetime if it's not already\n",
    "# Extract quarter and year and combine them into a single column\n",
    "product_sale['Quarter_Year'] = product_sale['TransactionDate'].dt.to_period('Q')"
   ]
  },
  {
   "cell_type": "code",
   "execution_count": null,
   "metadata": {},
   "outputs": [],
   "source": [
    "ori_date = product_sale[['Quarter_Year', 'CustomerID']].drop_duplicates(subset=['Quarter_Year','CustomerID'])"
   ]
  },
  {
   "cell_type": "code",
   "execution_count": null,
   "metadata": {},
   "outputs": [],
   "source": [
    "ori_date['Active_NextMonth?'] = 1\n",
    "ori_date"
   ]
  },
  {
   "cell_type": "code",
   "execution_count": null,
   "metadata": {},
   "outputs": [],
   "source": [
    "next_date_tab = ori_date.copy().drop(columns=['Active_NextMonth?']).rename(columns={'Quarter_Year':'Current_Quarter_Year'})\n",
    "next_date_tab['Next_QuarterYear'] = next_date_tab['Current_Quarter_Year'].apply(lambda x: x+1)\n",
    "next_date_tab"
   ]
  },
  {
   "cell_type": "code",
   "execution_count": null,
   "metadata": {},
   "outputs": [],
   "source": [
    "merged = next_date_tab.merge(ori_date, left_on = ['Next_QuarterYear','CustomerID'], right_on =['Quarter_Year','CustomerID'], how='left')"
   ]
  },
  {
   "cell_type": "code",
   "execution_count": null,
   "metadata": {},
   "outputs": [],
   "source": [
    "merged = merged.fillna(0).drop(columns=['Quarter_Year'])"
   ]
  },
  {
   "cell_type": "code",
   "execution_count": null,
   "metadata": {},
   "outputs": [],
   "source": [
    "len(merged['CustomerID'].unique())"
   ]
  },
  {
   "cell_type": "code",
   "execution_count": null,
   "metadata": {},
   "outputs": [],
   "source": [
    "merged"
   ]
  },
  {
   "cell_type": "markdown",
   "metadata": {},
   "source": [
    "# 1 | Second approach"
   ]
  },
  {
   "cell_type": "code",
   "execution_count": null,
   "metadata": {},
   "outputs": [],
   "source": [
    "num_quarter = 5\n",
    "for i in range(num_quarter):\n",
    "    print(i)"
   ]
  },
  {
   "cell_type": "code",
   "execution_count": null,
   "metadata": {},
   "outputs": [],
   "source": [
    "def get_churn_customer(df):\n",
    "    distinct_quarter = df['Quarter_Year'].unique()\n",
    "    num_quarter = len(distinct_quarter)\n",
    "    df['customer_type'] = 0\n",
    "\n",
    "    for i_cur_quarter in range(num_quarter):\n",
    "\n",
    "        cur_quarter = distinct_quarter[i_cur_quarter]\n",
    "        \n",
    "        \n",
    "\n",
    "        customer_cur_list = df[df['Quarter_Year'] == cur_quarter]['CustomerID'].unique()\n",
    "        \n",
    "\n",
    "        if i_cur_quarter == 0:\n",
    "            next_quarter = distinct_quarter[i_cur_quarter + 1]\n",
    "            customer_next_list = df[df['Quarter_Year'] == next_quarter]['CustomerID'].unique()\n",
    "            \n",
    "            loyal_customer = [customer for customer in customer_cur_list if customer in customer_next_list]\n",
    "            labser_customer = [customer for customer in customer_cur_list if customer not in loyal_customer]\n",
    "            new_customer = ['0']\n",
    "        elif i_cur_quarter == num_quarter - 1:\n",
    "            last_quarter = distinct_quarter[i_cur_quarter - 1]\n",
    "            customer_last_list = df[df['Quarter_Year'] == last_quarter]['CustomerID'].unique()\n",
    "            \n",
    "            new_customer = [customer for customer in customer_cur_list if customer not in customer_last_list]\n",
    "            loyal_customer = ['0']\n",
    "            labser_customer = ['0']\n",
    "        else:\n",
    "            next_quarter = distinct_quarter[i_cur_quarter + 1]\n",
    "            customer_next_list = df[df['Quarter_Year'] == next_quarter]['CustomerID'].unique()\n",
    "            \n",
    "            last_quarter = distinct_quarter[i_cur_quarter - 1]\n",
    "            customer_last_list = df[df['Quarter_Year'] == last_quarter]['CustomerID'].unique()\n",
    "\n",
    "            new_customer = [customer for customer in customer_cur_list if customer not in customer_last_list]\n",
    "            not_new_customer = [customer for customer in customer_cur_list if customer not in new_customer]\n",
    "\n",
    "            loyal_customer = [customer for customer in not_new_customer if customer in customer_next_list]\n",
    "            labser_customer = [customer for customer in not_new_customer if customer not in loyal_customer]\n",
    "            \n",
    "\n",
    "        df['customer_type'][(df['CustomerID'].isin(new_customer))&(df['Quarter_Year'] == cur_quarter)] = 'new'\n",
    "        df['customer_type'][(df['CustomerID'].isin(loyal_customer))&(df['Quarter_Year'] == cur_quarter)] = 'loyal'\n",
    "        df['customer_type'][(df['CustomerID'].isin(labser_customer))&(df['Quarter_Year'] == cur_quarter)] = 'labser'\n",
    "\n",
    "    return df\n",
    "    "
   ]
  },
  {
   "cell_type": "code",
   "execution_count": null,
   "metadata": {},
   "outputs": [],
   "source": [
    "# Assuming your DataFrame is named product_sale\n",
    "product_sale['TransactionDate'] = pd.to_datetime(product_sale['TransactionDate'])  # Convert TransactionDate to datetime if it's not already\n",
    "# Extract quarter and year and combine them into a single column\n",
    "product_sale['Quarter_Year'] = product_sale['TransactionDate'].dt.to_period('Q')\n",
    "quarter_customer = product_sale[['Quarter_Year', 'CustomerID']].drop_duplicates(subset=['Quarter_Year','CustomerID'])"
   ]
  },
  {
   "cell_type": "code",
   "execution_count": 64,
   "metadata": {},
   "outputs": [
    {
     "data": {
      "text/plain": [
       "<PeriodArray>\n",
       "['2021Q1', '2021Q2', '2021Q3', '2021Q4', '2022Q1', '2022Q2', '2022Q3',\n",
       " '2022Q4']\n",
       "Length: 8, dtype: period[Q-DEC]"
      ]
     },
     "execution_count": 64,
     "metadata": {},
     "output_type": "execute_result"
    }
   ],
   "source": [
    "distinct_quarter = quarter_customer['Quarter_Year'].unique()\n",
    "distinct_quarter"
   ]
  },
  {
   "cell_type": "code",
   "execution_count": 59,
   "metadata": {},
   "outputs": [
    {
     "name": "stderr",
     "output_type": "stream",
     "text": [
      "C:\\Users\\Admin\\AppData\\Local\\Temp\\ipykernel_12016\\1077953920.py:43: SettingWithCopyWarning: \n",
      "A value is trying to be set on a copy of a slice from a DataFrame\n",
      "\n",
      "See the caveats in the documentation: https://pandas.pydata.org/pandas-docs/stable/user_guide/indexing.html#returning-a-view-versus-a-copy\n",
      "  df['customer_type'][(df['CustomerID'].isin(new_customer))&(df['Quarter_Year'] == cur_quarter)] = 'new'\n",
      "C:\\Users\\Admin\\AppData\\Local\\Temp\\ipykernel_12016\\1077953920.py:44: SettingWithCopyWarning: \n",
      "A value is trying to be set on a copy of a slice from a DataFrame\n",
      "\n",
      "See the caveats in the documentation: https://pandas.pydata.org/pandas-docs/stable/user_guide/indexing.html#returning-a-view-versus-a-copy\n",
      "  df['customer_type'][(df['CustomerID'].isin(loyal_customer))&(df['Quarter_Year'] == cur_quarter)] = 'loyal'\n",
      "C:\\Users\\Admin\\AppData\\Local\\Temp\\ipykernel_12016\\1077953920.py:44: FutureWarning: Setting an item of incompatible dtype is deprecated and will raise in a future error of pandas. Value 'loyal' has dtype incompatible with int64, please explicitly cast to a compatible dtype first.\n",
      "  df['customer_type'][(df['CustomerID'].isin(loyal_customer))&(df['Quarter_Year'] == cur_quarter)] = 'loyal'\n"
     ]
    }
   ],
   "source": [
    "type_customer_over_quarter = get_churn_customer(quarter_customer)"
   ]
  },
  {
   "cell_type": "code",
   "execution_count": 60,
   "metadata": {},
   "outputs": [
    {
     "data": {
      "text/html": [
       "<div>\n",
       "<style scoped>\n",
       "    .dataframe tbody tr th:only-of-type {\n",
       "        vertical-align: middle;\n",
       "    }\n",
       "\n",
       "    .dataframe tbody tr th {\n",
       "        vertical-align: top;\n",
       "    }\n",
       "\n",
       "    .dataframe thead th {\n",
       "        text-align: right;\n",
       "    }\n",
       "</style>\n",
       "<table border=\"1\" class=\"dataframe\">\n",
       "  <thead>\n",
       "    <tr style=\"text-align: right;\">\n",
       "      <th></th>\n",
       "      <th>Quarter_Year</th>\n",
       "      <th>CustomerID</th>\n",
       "      <th>customer_type</th>\n",
       "    </tr>\n",
       "  </thead>\n",
       "  <tbody>\n",
       "    <tr>\n",
       "      <th>0</th>\n",
       "      <td>2021Q1</td>\n",
       "      <td>6402</td>\n",
       "      <td>loyal</td>\n",
       "    </tr>\n",
       "    <tr>\n",
       "      <th>6</th>\n",
       "      <td>2021Q1</td>\n",
       "      <td>884</td>\n",
       "      <td>labser</td>\n",
       "    </tr>\n",
       "    <tr>\n",
       "      <th>11</th>\n",
       "      <td>2021Q1</td>\n",
       "      <td>16274</td>\n",
       "      <td>labser</td>\n",
       "    </tr>\n",
       "    <tr>\n",
       "      <th>17</th>\n",
       "      <td>2021Q1</td>\n",
       "      <td>28546</td>\n",
       "      <td>loyal</td>\n",
       "    </tr>\n",
       "    <tr>\n",
       "      <th>24</th>\n",
       "      <td>2021Q1</td>\n",
       "      <td>14373</td>\n",
       "      <td>loyal</td>\n",
       "    </tr>\n",
       "    <tr>\n",
       "      <th>...</th>\n",
       "      <td>...</td>\n",
       "      <td>...</td>\n",
       "      <td>...</td>\n",
       "    </tr>\n",
       "    <tr>\n",
       "      <th>762030</th>\n",
       "      <td>2022Q4</td>\n",
       "      <td>5400</td>\n",
       "      <td>0</td>\n",
       "    </tr>\n",
       "    <tr>\n",
       "      <th>762042</th>\n",
       "      <td>2022Q4</td>\n",
       "      <td>19065</td>\n",
       "      <td>new</td>\n",
       "    </tr>\n",
       "    <tr>\n",
       "      <th>762048</th>\n",
       "      <td>2022Q4</td>\n",
       "      <td>6687</td>\n",
       "      <td>new</td>\n",
       "    </tr>\n",
       "    <tr>\n",
       "      <th>762053</th>\n",
       "      <td>2022Q4</td>\n",
       "      <td>2733</td>\n",
       "      <td>0</td>\n",
       "    </tr>\n",
       "    <tr>\n",
       "      <th>762058</th>\n",
       "      <td>2022Q4</td>\n",
       "      <td>20614</td>\n",
       "      <td>0</td>\n",
       "    </tr>\n",
       "  </tbody>\n",
       "</table>\n",
       "<p>91064 rows × 3 columns</p>\n",
       "</div>"
      ],
      "text/plain": [
       "       Quarter_Year  CustomerID customer_type\n",
       "0            2021Q1        6402         loyal\n",
       "6            2021Q1         884        labser\n",
       "11           2021Q1       16274        labser\n",
       "17           2021Q1       28546         loyal\n",
       "24           2021Q1       14373         loyal\n",
       "...             ...         ...           ...\n",
       "762030       2022Q4        5400             0\n",
       "762042       2022Q4       19065           new\n",
       "762048       2022Q4        6687           new\n",
       "762053       2022Q4        2733             0\n",
       "762058       2022Q4       20614             0\n",
       "\n",
       "[91064 rows x 3 columns]"
      ]
     },
     "execution_count": 60,
     "metadata": {},
     "output_type": "execute_result"
    }
   ],
   "source": [
    "type_customer_over_quarter"
   ]
  },
  {
   "cell_type": "code",
   "execution_count": 61,
   "metadata": {},
   "outputs": [],
   "source": [
    "# type_customer_over_quarter.to_csv(r'type_customer_over_quarter.csv')"
   ]
  }
 ],
 "metadata": {
  "kernelspec": {
   "display_name": "Python 3",
   "language": "python",
   "name": "python3"
  },
  "language_info": {
   "codemirror_mode": {
    "name": "ipython",
    "version": 3
   },
   "file_extension": ".py",
   "mimetype": "text/x-python",
   "name": "python",
   "nbconvert_exporter": "python",
   "pygments_lexer": "ipython3",
   "version": "3.11.4"
  }
 },
 "nbformat": 4,
 "nbformat_minor": 2
}
